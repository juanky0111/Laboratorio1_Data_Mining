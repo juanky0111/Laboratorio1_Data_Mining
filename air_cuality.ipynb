{
 "cells": [
  {
   "cell_type": "markdown",
   "metadata": {},
   "source": [
    "Práctica 1 (impacto de las restricciones de tráfico en la calidad del aire)"
   ]
  },
  {
   "cell_type": "markdown",
   "metadata": {},
   "source": [
    "\n",
    "Objetivo: \n",
    "El 30 de diciembre de 2016 el Ayuntamiento de Madrid empieza a restringir el tráfico al centro de la ciudad\n",
    "mediante la aplicación del escenario 3 del protocolo de contaminación. Esta fue la primera vez que se aplicó\n",
    "un escenario tan restrictivo. Demuestra mediante visualizaciones de datos que ha ocurrido después de ello.\n",
    "Para dicho problema, haremos uso de un dataset con datos sobre la calidad del aire en Madrid desde 2001. El\n",
    "dataset contiene un archivo csv por año. Dentro de cada uno de ellos habrá medidas diarias de distintas\n",
    "estaciones. Estas estaciones miden diferentes parámetros y no siempre todos se registran en cada una de las\n",
    "estaciones.\n",
    "https://www.kaggle.com/decide-soluciones/air-quality-madrid/downloads/csvs_per_year.zip/5"
   ]
  },
  {
   "cell_type": "markdown",
   "metadata": {},
   "source": [
    "1.- (1 punto) Lo primero que tendremos que hacer es cargar todos los archivos csv en un mismo DataFrame\n",
    "para poder manipularlos. Habrá que comprobar si existen datos redundantes o anómalos.\n",
    "Para medir la calidad del aire de un día obtendremos el valor de cada estación meteorológica ese día y\n",
    "después calcularemos la media de estos. El primer valor se estimará teniendo en cuenta la tabla que se\n",
    "encuentra más abajo. Después habrá que hacer una transformación de valores continuos a categóricos.\n",
    "Proporcionar dicha información en un DataFrame y luego guardarlo en un archivo csv.\n",
    "La calidad del aire general es igual al peor índice de las cinco partículas que se muestran en la tabla siguente."
   ]
  },
  {
   "cell_type": "code",
   "execution_count": 15,
   "metadata": {},
   "outputs": [
    {
     "name": "stdout",
     "output_type": "stream",
     "text": [
      "<class 'pandas.core.frame.DataFrame'>\n",
      "RangeIndex: 3808224 entries, 0 to 3808223\n",
      "Data columns (total 19 columns):\n",
      " #   Column   Dtype  \n",
      "---  ------   -----  \n",
      " 0   date     object \n",
      " 1   BEN      float64\n",
      " 2   CO       float64\n",
      " 3   EBE      float64\n",
      " 4   MXY      float64\n",
      " 5   NMHC     float64\n",
      " 6   NO_2     float64\n",
      " 7   NOx      float64\n",
      " 8   OXY      float64\n",
      " 9   O_3      float64\n",
      " 10  PM10     float64\n",
      " 11  PXY      float64\n",
      " 12  SO_2     float64\n",
      " 13  TCH      float64\n",
      " 14  TOL      float64\n",
      " 15  station  int64  \n",
      " 16  PM25     float64\n",
      " 17  NO       float64\n",
      " 18  CH4      float64\n",
      "dtypes: float64(17), int64(1), object(1)\n",
      "memory usage: 552.0+ MB\n",
      "None\n",
      "                BEN            CO           EBE            MXY          NMHC  \\\n",
      "count  1.041684e+06  2.651012e+06  1.001724e+06  315415.000000  1.085312e+06   \n",
      "mean   1.257431e+00  5.503838e-01  1.407927e+00       4.650394  1.873865e-01   \n",
      "std    1.910831e+00  5.354483e-01  2.146109e+00       5.599223  1.539529e-01   \n",
      "min    0.000000e+00  0.000000e+00  0.000000e+00       0.000000  0.000000e+00   \n",
      "25%    2.100000e-01  2.600000e-01  3.500000e-01       1.200000  9.000000e-02   \n",
      "50%    6.000000e-01  4.000000e-01  8.800000e-01       2.800000  1.500000e-01   \n",
      "75%    1.500000e+00  6.500000e-01  1.580000e+00       5.890000  2.400000e-01   \n",
      "max    6.639000e+01  1.804000e+01  1.622000e+02     177.600006  9.070000e+00   \n",
      "\n",
      "               NO_2           NOx            OXY           O_3          PM10  \\\n",
      "count  3.787050e+06  2.376275e+06  315695.000000  2.991732e+06  2.861255e+06   \n",
      "mean   5.047151e+01  1.093188e+02       2.280912  3.982616e+01  2.893654e+01   \n",
      "std    3.455288e+01  1.102871e+02       2.639609  3.039249e+01  2.594859e+01   \n",
      "min    0.000000e+00  0.000000e+00       0.000000  0.000000e+00  0.000000e+00   \n",
      "25%    2.400000e+01  4.000000e+01       0.960000  1.271000e+01  1.150000e+01   \n",
      "50%    4.400000e+01  7.615000e+01       1.320000  3.486000e+01  2.149000e+01   \n",
      "75%    6.958000e+01  1.397000e+02       2.740000  5.999000e+01  3.775000e+01   \n",
      "max    6.286000e+02  2.537000e+03     103.000000  2.360000e+02  6.950000e+02   \n",
      "\n",
      "                 PXY          SO_2           TCH           TOL       station  \\\n",
      "count  315584.000000  2.775960e+06  1.086441e+06  1.038929e+06  3.808224e+06   \n",
      "mean        2.056178  1.065539e+01  1.435882e+00  5.876842e+00  2.807903e+07   \n",
      "std         2.395130  9.121267e+00  2.332228e-01  8.524460e+00  2.028574e+01   \n",
      "min         0.000000  0.000000e+00  0.000000e+00  0.000000e+00  2.807900e+07   \n",
      "25%         0.800000  5.840000e+00  1.300000e+00  1.100000e+00  2.807901e+07   \n",
      "50%         1.280000  8.150000e+00  1.380000e+00  3.160000e+00  2.807902e+07   \n",
      "75%         2.510000  1.230000e+01  1.510000e+00  6.990000e+00  2.807904e+07   \n",
      "max       106.000000  1.991000e+02  1.048000e+01  2.429000e+02  2.807910e+07   \n",
      "\n",
      "                PM25            NO           CH4  \n",
      "count  816424.000000  1.532397e+06  14850.000000  \n",
      "mean       13.738292  2.343886e+01      1.300849  \n",
      "std        11.214146  5.021504e+01      0.195550  \n",
      "min       -31.000000  0.000000e+00      0.020000  \n",
      "25%         6.450000  2.000000e+00      1.170000  \n",
      "50%        11.000000  6.000000e+00      1.250000  \n",
      "75%        17.670000  2.000000e+01      1.400000  \n",
      "max       506.899994  1.146000e+03      3.920000  \n",
      "Duplicated rows: 0\n",
      "Null values:\n",
      "date             0\n",
      "BEN        2766540\n",
      "CO         1157212\n",
      "EBE        2806500\n",
      "MXY        3492809\n",
      "NMHC       2722912\n",
      "NO_2         21174\n",
      "NOx        1431949\n",
      "OXY        3492529\n",
      "O_3         816492\n",
      "PM10        946969\n",
      "PXY        3492640\n",
      "SO_2       1032264\n",
      "TCH        2721783\n",
      "TOL        2769295\n",
      "station          0\n",
      "PM25       2991800\n",
      "NO         2275827\n",
      "CH4        3793374\n",
      "dtype: int64\n",
      "                          BEN      CO       EBE     MXY   NMHC       NO_2  \\\n",
      "date                                                                        \n",
      "2001-01-01 01:00:00  3.176667  1.2568  2.560000   4.582  0.239  55.287601   \n",
      "2001-01-01 02:00:00  7.001111  2.2696  4.711429   5.714  0.383  55.848400   \n",
      "2001-01-01 03:00:00  9.768889  2.3544  6.628572  10.158  0.401  55.720800   \n",
      "2001-01-01 04:00:00  9.554444  2.0456  7.222857  14.372  0.365  56.596800   \n",
      "2001-01-01 05:00:00  7.343333  1.4376  5.522857  11.570  0.260  53.827600   \n",
      "\n",
      "                            NOx    OXY     O_3       PM10    PXY     SO_2  \\\n",
      "date                                                                        \n",
      "2001-01-01 01:00:00  120.004799  2.220  7.8292  30.660417  1.802  22.1004   \n",
      "2001-01-01 02:00:00  183.621999  2.632  7.0744  41.035909  2.226  24.0064   \n",
      "2001-01-01 03:00:00  214.429599  4.372  6.8332  56.345218  3.894  25.4832   \n",
      "2001-01-01 04:00:00  205.904398  6.450  7.1856  47.972083  5.576  23.6180   \n",
      "2001-01-01 05:00:00  164.040400  5.426  7.9592  36.637083  4.516  20.0304   \n",
      "\n",
      "                       TCH        TOL      station  PM25  NO  CH4 air_quality  \n",
      "date                                                                           \n",
      "2001-01-01 01:00:00  1.575  10.584444  28079022.44   NaN NaN  NaN   Admisible  \n",
      "2001-01-01 02:00:00  1.733  19.410000  28079022.44   NaN NaN  NaN        Mala  \n",
      "2001-01-01 03:00:00  1.778  29.270000  28079022.44   NaN NaN  NaN    Muy Mala  \n",
      "2001-01-01 04:00:00  1.779  30.757778  28079022.44   NaN NaN  NaN        Mala  \n",
      "2001-01-01 05:00:00  1.795  24.490000  28079022.44   NaN NaN  NaN   Admisible  \n"
     ]
    }
   ],
   "source": [
    "import pandas as pd\n",
    "import glob\n",
    "\n",
    "# Obtener la lista de archivos CSV\n",
    "all_files = glob.glob(\"csvs_per_year/*.csv\")\n",
    "\n",
    "# Cargar todos los archivos CSV en un solo DataFrame\n",
    "df_list = [pd.read_csv(file) for file in all_files]\n",
    "df = pd.concat(df_list, ignore_index=True)\n",
    "\n",
    "# Mostrar información del DataFrame\n",
    "print(df.info())\n",
    "print(df.describe())\n",
    "\n",
    "# Comprobar duplicados\n",
    "duplicates = df.duplicated()\n",
    "print(f\"Duplicated rows: {duplicates.sum()}\")\n",
    "\n",
    "# Eliminar duplicados\n",
    "df = df.drop_duplicates()\n",
    "\n",
    "# Comprobar valores nulos\n",
    "null_values = df.isnull().sum()\n",
    "print(f\"Null values:\\n{null_values}\")\n",
    "\n",
    "# Convertir la columna 'date' a tipo datetime\n",
    "df['date'] = pd.to_datetime(df['date'])\n",
    "\n",
    "# Calcular la media diaria de cada parámetro\n",
    "daily_mean = df.groupby('date').mean()\n",
    "\n",
    "# Función para categorizar la calidad del aire\n",
    "def categorize_air_quality(row):\n",
    "    if row['PM10'] > 50 or row['NO_2'] > 200 or row['O_3'] > 180 or row['SO_2'] > 125 or row['CO'] > 10:\n",
    "        return 'Muy Mala'\n",
    "    elif row['PM10'] > 40 or row['NO_2'] > 150 or row['O_3'] > 120 or row['SO_2'] > 100 or row['CO'] > 8:\n",
    "        return 'Mala'\n",
    "    elif row['PM10'] > 20 or row['NO_2'] > 100 or row['O_3'] > 80 or row['SO_2'] > 50 or row['CO'] > 5:\n",
    "        return 'Admisible'\n",
    "    else:\n",
    "        return 'Buena'\n",
    "\n",
    "# Aplicar la función para categorizar la calidad del aire\n",
    "daily_mean['air_quality'] = daily_mean.apply(categorize_air_quality, axis=1)\n",
    "\n",
    "# Guardar el DataFrame resultante en un archivo CSV\n",
    "daily_mean.to_csv('daily_air_quality.csv')\n",
    "\n",
    "# Mostrar las primeras filas del DataFrame resultante\n",
    "print(daily_mean.head())"
   ]
  },
  {
   "cell_type": "markdown",
   "metadata": {},
   "source": [
    "\n",
    "\n",
    "\n",
    "\n",
    "2.- (0,5 puntos) Explica visualmente como se distribuyen las calidades del aire entre buena, admisible, mala y\n",
    "muy mala. Realiza para ello un pie chart. Que se puede concluir de dicho gráfico.\n",
    "\n",
    "\n"
   ]
  },
  {
   "cell_type": "code",
   "execution_count": 12,
   "metadata": {},
   "outputs": [
    {
     "data": {
      "image/png": "[encoded data removed]",
      "text/plain": [
       "<Figure size 800x800 with 1 Axes>"
      ]
     },
     "metadata": {},
     "output_type": "display_data"
    }
   ],
   "source": [
    "import matplotlib.pyplot as plt\n",
    "\n",
    "# Contar la cantidad de días para cada categoría de calidad del aire\n",
    "air_quality_counts = daily_mean['air_quality'].value_counts()\n",
    "\n",
    "# Crear pie chart\n",
    "plt.figure(figsize=(8, 8))\n",
    "plt.pie(air_quality_counts, labels=air_quality_counts.index, autopct='%1.1f%%', startangle=140, colors=['green', 'yellow', 'orange', 'red'])\n",
    "plt.title('Distribución de la Calidad del Aire')\n",
    "plt.show()"
   ]
  },
  {
   "cell_type": "markdown",
   "metadata": {},
   "source": [
    "Conclusiones del pie chart"
   ]
  },
  {
   "cell_type": "markdown",
   "metadata": {},
   "source": [
    "\n",
    "Buena: Si la porción de \"Buena\" es grande, significa que la mayoría de los días tienen una calidad del aire aceptable.\n"
   ]
  },
  {
   "cell_type": "markdown",
   "metadata": {},
   "source": [
    "Admisible: Una porción significativa de \"Admisible\" indica que hay varios días con calidad del aire que no es óptima pero aún aceptable.\n"
   ]
  },
  {
   "cell_type": "markdown",
   "metadata": {},
   "source": [
    "Mala: Una porción notable de \"Mala\" sugiere que hay días con calidad del aire que podría ser perjudicial para la salud.\n",
    "Muy Mala: Si hay una porción considerable de \"Muy Mala\", significa que hay días con calidad del aire muy perjudicial para la salud.\n"
   ]
  },
  {
   "cell_type": "markdown",
   "metadata": {},
   "source": [
    "El pie chart te permitirá ver rápidamente la proporción de días con diferentes calidades del aire y sacar conclusiones sobre la frecuencia de cada categoría."
   ]
  },
  {
   "cell_type": "markdown",
   "metadata": {},
   "source": [
    "3.- (1 punto) Una vez obtenida la calidad del aire para cada día, calcula la calidad media de cada mes para que\n",
    "sea más fácil saber si la contaminación ha disminuido desde que se restringió el acceso al centro de Madrid.\n",
    "Explica visualmente si los protocolos de restricciones de tráfico han tenido éxito. Utiliza para ello un diagrama\n",
    "de barras. ¿Podemos encontrar la diferencia entre lo que ocurría antes de aplicar el protocolo y después?\n"
   ]
  },
  {
   "cell_type": "code",
   "execution_count": null,
   "metadata": {},
   "outputs": [],
   "source": []
  },
  {
   "cell_type": "markdown",
   "metadata": {},
   "source": [
    "4,- (1 punto) Por último, queremos tratar de entender los cambios de la calidad del aire en estos últimos años.\n",
    "Obtén un diagrama de cajas donde cada caja corresponda a un año y haz una interpretación de los resultados"
   ]
  },
  {
   "cell_type": "code",
   "execution_count": null,
   "metadata": {},
   "outputs": [],
   "source": []
  }
 ],
 "metadata": {
  "kernelspec": {
   "display_name": "emv",
   "language": "python",
   "name": "python3"
  },
  "language_info": {
   "codemirror_mode": {
    "name": "ipython",
    "version": 3
   },
   "file_extension": ".py",
   "mimetype": "text/x-python",
   "name": "python",
   "nbconvert_exporter": "python",
   "pygments_lexer": "ipython3",
   "version": "3.13.1"
  }
 },
 "nbformat": 4,
 "nbformat_minor": 2
}
